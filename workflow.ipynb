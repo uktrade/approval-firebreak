{
 "cells": [
  {
   "cell_type": "markdown",
   "id": "567b3ba1",
   "metadata": {},
   "source": [
    "## Example Workflow\n",
    "\n",
    "Using the `'json'` dumpled from a `'Workflow'` dataclass create a DAG."
   ]
  },
  {
   "cell_type": "code",
   "execution_count": 36,
   "id": "d32f7ecc",
   "metadata": {},
   "outputs": [],
   "source": [
    "import ipycytoscape\n",
    "from dataclasses import dataclass, asdict"
   ]
  },
  {
   "cell_type": "code",
   "execution_count": 37,
   "id": "d7372347",
   "metadata": {},
   "outputs": [],
   "source": [
    "# Dataclasses\n",
    "from typing import Optional\n",
    "\n",
    "from workflow.tasks import Task\n",
    "\n",
    "\n",
    "@dataclass\n",
    "class Step:\n",
    "    step_id: str\n",
    "    task_name: str\n",
    "    target: Optional[str]\n",
    "    start: Optional[bool] = None\n",
    "    task_info: Optional[dict] = None\n",
    "\n",
    "    @property\n",
    "    def task(self):\n",
    "        return Task.tasks[self.task_name]\n",
    "\n",
    "\n",
    "@dataclass\n",
    "class Workflow:\n",
    "    name: str\n",
    "    steps: list[Step]\n",
    "\n",
    "    def get_step(self, step_id):\n",
    "        return next(step for step in self.steps if step.step_id == step_id)\n",
    "\n",
    "    @property\n",
    "    def first_step(self):\n",
    "        return next(step for step in self.steps if step.start)"
   ]
  },
  {
   "cell_type": "code",
   "execution_count": 38,
   "id": "3d041d9f",
   "metadata": {},
   "outputs": [],
   "source": [
    "steps=[\n",
    "        Step(\n",
    "            step_id=\"approver_email_form\",\n",
    "            task_name=\"email_form\",\n",
    "            start=True,\n",
    "            target=[\"send_approver_email\", \"send_approver_sms\"],\n",
    "            task_info={\"subject\": \"Approval\"},\n",
    "        ),\n",
    "    Step(\n",
    "            step_id=\"send_approver_sms\",\n",
    "            task_name=\"send_email\",\n",
    "            target=\"approver_email_form2\",\n",
    "            task_info={\n",
    "                \"subject\": \"Test subject 3\",\n",
    "                \"message\": \"Test message 3\",\n",
    "                \"from_email\": \"admin3@example.com\",\n",
    "                \"recipient_list\": [\"approver3@example.com\"],\n",
    "            },\n",
    "        ),\n",
    "   \n",
    "    Step(\n",
    "            step_id=\"send_approver_email\",\n",
    "            task_name=\"send_email\",\n",
    "            target=\"approver_email_form2\",\n",
    "            task_info={\n",
    "                \"subject\": \"Test subject 3\",\n",
    "                \"message\": \"Test message 3\",\n",
    "                \"from_email\": \"admin3@example.com\",\n",
    "                \"recipient_list\": [\"approver3@example.com\"],\n",
    "            },\n",
    "        ),\n",
    "        Step(\n",
    "            step_id=\"approver_email_form2\",\n",
    "            task_name=\"email_form\",\n",
    "            target=\"send_approver_email2\",\n",
    "            task_info={\"subject\": \"Approval\"},\n",
    "        ),\n",
    "        Step(\n",
    "            step_id=\"send_approver_email2\",\n",
    "            task_name=\"send_email\",\n",
    "            target=None,\n",
    "            task_info={\n",
    "                \"subject\": \"Test subject 4\",\n",
    "                \"message\": \"Test message 4\",\n",
    "                \"from_email\": \"admin3@example.com\",\n",
    "                \"recipient_list\": [\"approver3@example.com\"],\n",
    "            },\n",
    "        ),\n",
    "    ]"
   ]
  },
  {
   "cell_type": "code",
   "execution_count": 39,
   "id": "9916519f",
   "metadata": {},
   "outputs": [],
   "source": [
    "# An example workflow\n",
    "ExampleWorkflow = Workflow(name=\"example_workflow\", steps=steps)"
   ]
  },
  {
   "cell_type": "code",
   "execution_count": 40,
   "id": "f1b28d9b",
   "metadata": {},
   "outputs": [],
   "source": [
    "# Nodes\n",
    "def step_to_node(step):\n",
    "    return {\n",
    "        \"data\": {\n",
    "            \"id\": step.step_id,\n",
    "            \"label\": step.task_name,\n",
    "            \"classes\": 'top-left',\n",
    "        }\n",
    "    }\n",
    "\n",
    "nodes = [step_to_node(step) for step in steps]"
   ]
  },
  {
   "cell_type": "code",
   "execution_count": 41,
   "id": "eb1e76ee",
   "metadata": {},
   "outputs": [],
   "source": [
    "# Edges\n",
    "from itertools import permutations\n",
    "\n",
    "edges = []\n",
    "for step in steps:\n",
    "    targets = step.target if isinstance(step.target, list) else [step.target]\n",
    "    for target in targets:\n",
    "        edges.append(\n",
    "            {\n",
    "                'data': {\n",
    "                    'source': step.step_id,\n",
    "                    'target': target\n",
    "                }\n",
    "            }\n",
    "        )"
   ]
  },
  {
   "cell_type": "code",
   "execution_count": 42,
   "id": "78c16c6a",
   "metadata": {},
   "outputs": [],
   "source": [
    "data = {\n",
    "    'nodes': nodes,\n",
    "    'edges': edges\n",
    "}"
   ]
  },
  {
   "cell_type": "code",
   "execution_count": 43,
   "id": "91cef22a",
   "metadata": {},
   "outputs": [],
   "source": [
    "cytoscapeobj = ipycytoscape.CytoscapeWidget()\n",
    "cytoscapeobj.graph.add_graph_from_json(data)"
   ]
  },
  {
   "cell_type": "code",
   "execution_count": 44,
   "id": "c5d9d8ac",
   "metadata": {},
   "outputs": [],
   "source": [
    "cytoscapeobj.set_style([\n",
    "    {\n",
    "        'selector': 'node',\n",
    "        'css': {\n",
    "            'background-color': '#11479e'\n",
    "        }\n",
    "    },\n",
    "    {\n",
    "        'selector': 'node:parent',\n",
    "        'css': {\n",
    "            'background-opacity': 0.333\n",
    "        }\n",
    "    },\n",
    "    {\n",
    "        'selector': 'edge',\n",
    "        'style': {\n",
    "            'width': 4,\n",
    "            'line-color': 'blue',\n",
    "            'target-arrow-shape': 'triangle',\n",
    "            'target-arrow-color': '#9dbaea',\n",
    "            'curve-style': 'bezier'\n",
    "        }\n",
    "    },\n",
    "    {\n",
    "        'selector': 'node',\n",
    "        'css': {\n",
    "            'background-color': 'lightblue',\n",
    "            'shape': 'roundrectangle',\n",
    "            'width': '100',\n",
    "            'height': '20',\n",
    "            'border-color': 'blue',\n",
    "        }\n",
    "    },\n",
    "    {\n",
    "        'selector': 'node[classes]',\n",
    "        'style': {\n",
    "            'font-family': 'helvetica',\n",
    "            'font-size': '20px',\n",
    "            'color': 'blue',\n",
    "            'text-valign': 'top',\n",
    "            'text-halign': 'left'\n",
    "        }\n",
    "    },\n",
    "   \n",
    "    {\n",
    "        'selector': 'node[classes]',\n",
    "        'style': {\n",
    "            'label': 'data(label)'\n",
    "        }\n",
    "    },\n",
    "    {\n",
    "        'selector': 'edge',\n",
    "        'css': {\n",
    "            'line-color': 'black',\n",
    "            'width': 2,\n",
    "            \n",
    "        }\n",
    "    },\n",
    "])"
   ]
  },
  {
   "cell_type": "code",
   "execution_count": 45,
   "id": "5e666e0a",
   "metadata": {},
   "outputs": [
    {
     "data": {
      "application/vnd.jupyter.widget-view+json": {
       "model_id": "3e16253eb1c043989c683e81a8e3b7d6",
       "version_major": 2,
       "version_minor": 0
      },
      "text/plain": [
       "CytoscapeWidget(cytoscape_layout={'name': 'cola'}, cytoscape_style=[{'selector': 'node', 'css': {'background-c…"
      ]
     },
     "metadata": {},
     "output_type": "display_data"
    }
   ],
   "source": [
    "cytoscapeobj"
   ]
  }
 ],
 "metadata": {
  "kernelspec": {
   "display_name": "Python 3 (ipykernel)",
   "language": "python",
   "name": "python3"
  },
  "language_info": {
   "codemirror_mode": {
    "name": "ipython",
    "version": 3
   },
   "file_extension": ".py",
   "mimetype": "text/x-python",
   "name": "python",
   "nbconvert_exporter": "python",
   "pygments_lexer": "ipython3",
   "version": "3.9.1"
  }
 },
 "nbformat": 4,
 "nbformat_minor": 5
}
